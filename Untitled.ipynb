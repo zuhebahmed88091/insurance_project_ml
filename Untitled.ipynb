{
 "cells": [
  {
   "cell_type": "code",
   "execution_count": 1,
   "id": "9ae15b3a",
   "metadata": {},
   "outputs": [],
   "source": [
    "import pandas as pd\n",
    "import numpy as np\n",
    "import matplotlib.pyplot as plt\n",
    "import seaborn as sns"
   ]
  },
  {
   "cell_type": "code",
   "execution_count": 2,
   "id": "b1db60f7",
   "metadata": {},
   "outputs": [],
   "source": [
    "df = pd.read_csv('insurance.csv')"
   ]
  },
  {
   "cell_type": "code",
   "execution_count": 3,
   "id": "d0b07ea5",
   "metadata": {},
   "outputs": [
    {
     "data": {
      "text/html": [
       "<div>\n",
       "<style scoped>\n",
       "    .dataframe tbody tr th:only-of-type {\n",
       "        vertical-align: middle;\n",
       "    }\n",
       "\n",
       "    .dataframe tbody tr th {\n",
       "        vertical-align: top;\n",
       "    }\n",
       "\n",
       "    .dataframe thead th {\n",
       "        text-align: right;\n",
       "    }\n",
       "</style>\n",
       "<table border=\"1\" class=\"dataframe\">\n",
       "  <thead>\n",
       "    <tr style=\"text-align: right;\">\n",
       "      <th></th>\n",
       "      <th>age</th>\n",
       "      <th>sex</th>\n",
       "      <th>bmi</th>\n",
       "      <th>children</th>\n",
       "      <th>smoker</th>\n",
       "      <th>region</th>\n",
       "      <th>charges</th>\n",
       "    </tr>\n",
       "  </thead>\n",
       "  <tbody>\n",
       "    <tr>\n",
       "      <th>0</th>\n",
       "      <td>19</td>\n",
       "      <td>female</td>\n",
       "      <td>27.900</td>\n",
       "      <td>0</td>\n",
       "      <td>yes</td>\n",
       "      <td>southwest</td>\n",
       "      <td>16884.92400</td>\n",
       "    </tr>\n",
       "    <tr>\n",
       "      <th>1</th>\n",
       "      <td>18</td>\n",
       "      <td>male</td>\n",
       "      <td>33.770</td>\n",
       "      <td>1</td>\n",
       "      <td>no</td>\n",
       "      <td>southeast</td>\n",
       "      <td>1725.55230</td>\n",
       "    </tr>\n",
       "    <tr>\n",
       "      <th>2</th>\n",
       "      <td>28</td>\n",
       "      <td>male</td>\n",
       "      <td>33.000</td>\n",
       "      <td>3</td>\n",
       "      <td>no</td>\n",
       "      <td>southeast</td>\n",
       "      <td>4449.46200</td>\n",
       "    </tr>\n",
       "    <tr>\n",
       "      <th>3</th>\n",
       "      <td>33</td>\n",
       "      <td>male</td>\n",
       "      <td>22.705</td>\n",
       "      <td>0</td>\n",
       "      <td>no</td>\n",
       "      <td>northwest</td>\n",
       "      <td>21984.47061</td>\n",
       "    </tr>\n",
       "    <tr>\n",
       "      <th>4</th>\n",
       "      <td>32</td>\n",
       "      <td>male</td>\n",
       "      <td>28.880</td>\n",
       "      <td>0</td>\n",
       "      <td>no</td>\n",
       "      <td>northwest</td>\n",
       "      <td>3866.85520</td>\n",
       "    </tr>\n",
       "    <tr>\n",
       "      <th>...</th>\n",
       "      <td>...</td>\n",
       "      <td>...</td>\n",
       "      <td>...</td>\n",
       "      <td>...</td>\n",
       "      <td>...</td>\n",
       "      <td>...</td>\n",
       "      <td>...</td>\n",
       "    </tr>\n",
       "    <tr>\n",
       "      <th>1333</th>\n",
       "      <td>50</td>\n",
       "      <td>male</td>\n",
       "      <td>30.970</td>\n",
       "      <td>3</td>\n",
       "      <td>no</td>\n",
       "      <td>northwest</td>\n",
       "      <td>10600.54830</td>\n",
       "    </tr>\n",
       "    <tr>\n",
       "      <th>1334</th>\n",
       "      <td>18</td>\n",
       "      <td>female</td>\n",
       "      <td>31.920</td>\n",
       "      <td>0</td>\n",
       "      <td>no</td>\n",
       "      <td>northeast</td>\n",
       "      <td>2205.98080</td>\n",
       "    </tr>\n",
       "    <tr>\n",
       "      <th>1335</th>\n",
       "      <td>18</td>\n",
       "      <td>female</td>\n",
       "      <td>36.850</td>\n",
       "      <td>0</td>\n",
       "      <td>no</td>\n",
       "      <td>southeast</td>\n",
       "      <td>1629.83350</td>\n",
       "    </tr>\n",
       "    <tr>\n",
       "      <th>1336</th>\n",
       "      <td>21</td>\n",
       "      <td>female</td>\n",
       "      <td>25.800</td>\n",
       "      <td>0</td>\n",
       "      <td>no</td>\n",
       "      <td>southwest</td>\n",
       "      <td>2007.94500</td>\n",
       "    </tr>\n",
       "    <tr>\n",
       "      <th>1337</th>\n",
       "      <td>61</td>\n",
       "      <td>female</td>\n",
       "      <td>29.070</td>\n",
       "      <td>0</td>\n",
       "      <td>yes</td>\n",
       "      <td>northwest</td>\n",
       "      <td>29141.36030</td>\n",
       "    </tr>\n",
       "  </tbody>\n",
       "</table>\n",
       "<p>1338 rows × 7 columns</p>\n",
       "</div>"
      ],
      "text/plain": [
       "      age     sex     bmi  children smoker     region      charges\n",
       "0      19  female  27.900         0    yes  southwest  16884.92400\n",
       "1      18    male  33.770         1     no  southeast   1725.55230\n",
       "2      28    male  33.000         3     no  southeast   4449.46200\n",
       "3      33    male  22.705         0     no  northwest  21984.47061\n",
       "4      32    male  28.880         0     no  northwest   3866.85520\n",
       "...   ...     ...     ...       ...    ...        ...          ...\n",
       "1333   50    male  30.970         3     no  northwest  10600.54830\n",
       "1334   18  female  31.920         0     no  northeast   2205.98080\n",
       "1335   18  female  36.850         0     no  southeast   1629.83350\n",
       "1336   21  female  25.800         0     no  southwest   2007.94500\n",
       "1337   61  female  29.070         0    yes  northwest  29141.36030\n",
       "\n",
       "[1338 rows x 7 columns]"
      ]
     },
     "execution_count": 3,
     "metadata": {},
     "output_type": "execute_result"
    }
   ],
   "source": [
    "df"
   ]
  },
  {
   "cell_type": "code",
   "execution_count": 4,
   "id": "153d7bc9",
   "metadata": {},
   "outputs": [
    {
     "data": {
      "text/plain": [
       "(1338, 7)"
      ]
     },
     "execution_count": 4,
     "metadata": {},
     "output_type": "execute_result"
    }
   ],
   "source": [
    "df.shape"
   ]
  },
  {
   "cell_type": "code",
   "execution_count": 5,
   "id": "4eccd753",
   "metadata": {},
   "outputs": [
    {
     "data": {
      "text/plain": [
       "age           int64\n",
       "sex          object\n",
       "bmi         float64\n",
       "children      int64\n",
       "smoker       object\n",
       "region       object\n",
       "charges     float64\n",
       "dtype: object"
      ]
     },
     "execution_count": 5,
     "metadata": {},
     "output_type": "execute_result"
    }
   ],
   "source": [
    "df.dtypes"
   ]
  },
  {
   "cell_type": "code",
   "execution_count": 6,
   "id": "29eeabad",
   "metadata": {},
   "outputs": [
    {
     "data": {
      "text/plain": [
       "age         0\n",
       "sex         0\n",
       "bmi         0\n",
       "children    0\n",
       "smoker      0\n",
       "region      0\n",
       "charges     0\n",
       "dtype: int64"
      ]
     },
     "execution_count": 6,
     "metadata": {},
     "output_type": "execute_result"
    }
   ],
   "source": [
    "df.isna().sum()"
   ]
  },
  {
   "cell_type": "code",
   "execution_count": 7,
   "id": "d46a52ad",
   "metadata": {},
   "outputs": [
    {
     "data": {
      "text/plain": [
       "1"
      ]
     },
     "execution_count": 7,
     "metadata": {},
     "output_type": "execute_result"
    }
   ],
   "source": [
    "df.duplicated().sum()"
   ]
  },
  {
   "cell_type": "code",
   "execution_count": 12,
   "id": "1448c9fc",
   "metadata": {},
   "outputs": [
    {
     "name": "stdout",
     "output_type": "stream",
     "text": [
      "0\n",
      "0\n",
      "0\n"
     ]
    }
   ],
   "source": [
    "for i in ['age', 'bmi', 'charges']:\n",
    "    print(df[i][df[i] == 0].count())"
   ]
  },
  {
   "cell_type": "code",
   "execution_count": 11,
   "id": "b6529923",
   "metadata": {},
   "outputs": [
    {
     "name": "stdout",
     "output_type": "stream",
     "text": [
      "sex -> ['female' 'male']\n",
      "children -> [0 1 3 2 5 4]\n",
      "smoker -> ['yes' 'no']\n",
      "region -> ['southwest' 'southeast' 'northwest' 'northeast']\n"
     ]
    }
   ],
   "source": [
    "for i in ['sex', 'children', 'smoker', 'region']:\n",
    "    print(i, \"->\", df[i].unique())"
   ]
  },
  {
   "cell_type": "code",
   "execution_count": 25,
   "id": "9ab2ae43",
   "metadata": {},
   "outputs": [],
   "source": [
    "df.drop_duplicates(inplace = True)"
   ]
  },
  {
   "cell_type": "code",
   "execution_count": 26,
   "id": "181b7c0c",
   "metadata": {},
   "outputs": [
    {
     "data": {
      "text/plain": [
       "0"
      ]
     },
     "execution_count": 26,
     "metadata": {},
     "output_type": "execute_result"
    }
   ],
   "source": [
    "df.duplicated().sum()"
   ]
  },
  {
   "cell_type": "code",
   "execution_count": 29,
   "id": "942ac383",
   "metadata": {},
   "outputs": [
    {
     "data": {
      "text/plain": [
       "[      ['sex']_male\n",
       " 0                0\n",
       " 1                1\n",
       " 2                1\n",
       " 3                1\n",
       " 4                1\n",
       " ...            ...\n",
       " 1333             1\n",
       " 1334             0\n",
       " 1335             0\n",
       " 1336             0\n",
       " 1337             0\n",
       " \n",
       " [1337 rows x 1 columns],\n",
       "       ['smoker']_yes\n",
       " 0                  1\n",
       " 1                  0\n",
       " 2                  0\n",
       " 3                  0\n",
       " 4                  0\n",
       " ...              ...\n",
       " 1333               0\n",
       " 1334               0\n",
       " 1335               0\n",
       " 1336               0\n",
       " 1337               1\n",
       " \n",
       " [1337 rows x 1 columns]]"
      ]
     },
     "execution_count": 29,
     "metadata": {},
     "output_type": "execute_result"
    }
   ],
   "source": [
    "one_hot = []\n",
    "for i in ['sex', 'smoker']:\n",
    "    i = pd.get_dummies(df[i], prefix=[i], drop_first=True)\n",
    "    one_hot.append(i)\n",
    "one_hot"
   ]
  },
  {
   "cell_type": "code",
   "execution_count": 30,
   "id": "79b94592",
   "metadata": {},
   "outputs": [
    {
     "data": {
      "text/plain": [
       "[      ['region']_northeast  ['region']_northwest  ['region']_southeast  \\\n",
       " 0                        0                     0                     0   \n",
       " 1                        0                     0                     1   \n",
       " 2                        0                     0                     1   \n",
       " 3                        0                     1                     0   \n",
       " 4                        0                     1                     0   \n",
       " ...                    ...                   ...                   ...   \n",
       " 1333                     0                     1                     0   \n",
       " 1334                     1                     0                     0   \n",
       " 1335                     0                     0                     1   \n",
       " 1336                     0                     0                     0   \n",
       " 1337                     0                     1                     0   \n",
       " \n",
       "       ['region']_southwest  \n",
       " 0                        1  \n",
       " 1                        0  \n",
       " 2                        0  \n",
       " 3                        0  \n",
       " 4                        0  \n",
       " ...                    ...  \n",
       " 1333                     0  \n",
       " 1334                     0  \n",
       " 1335                     0  \n",
       " 1336                     1  \n",
       " 1337                     0  \n",
       " \n",
       " [1337 rows x 4 columns]]"
      ]
     },
     "execution_count": 30,
     "metadata": {},
     "output_type": "execute_result"
    }
   ],
   "source": [
    "one_hot_regions = []\n",
    "for i in ['region']:\n",
    "    i = pd.get_dummies(df[i], prefix=[i])\n",
    "    one_hot_regions.append(i)\n",
    "one_hot_regions"
   ]
  },
  {
   "cell_type": "code",
   "execution_count": 31,
   "id": "6db253a4",
   "metadata": {},
   "outputs": [],
   "source": [
    "for i in one_hot:\n",
    "    df = pd.concat((df, i), axis=1)"
   ]
  },
  {
   "cell_type": "code",
   "execution_count": 32,
   "id": "4dcfb5bf",
   "metadata": {},
   "outputs": [],
   "source": [
    "for i in one_hot_regions:\n",
    "    df = pd.concat((df, i), axis=1)"
   ]
  },
  {
   "cell_type": "code",
   "execution_count": 33,
   "id": "dc73ffdd",
   "metadata": {},
   "outputs": [
    {
     "data": {
      "text/html": [
       "<div>\n",
       "<style scoped>\n",
       "    .dataframe tbody tr th:only-of-type {\n",
       "        vertical-align: middle;\n",
       "    }\n",
       "\n",
       "    .dataframe tbody tr th {\n",
       "        vertical-align: top;\n",
       "    }\n",
       "\n",
       "    .dataframe thead th {\n",
       "        text-align: right;\n",
       "    }\n",
       "</style>\n",
       "<table border=\"1\" class=\"dataframe\">\n",
       "  <thead>\n",
       "    <tr style=\"text-align: right;\">\n",
       "      <th></th>\n",
       "      <th>age</th>\n",
       "      <th>sex</th>\n",
       "      <th>bmi</th>\n",
       "      <th>children</th>\n",
       "      <th>smoker</th>\n",
       "      <th>region</th>\n",
       "      <th>charges</th>\n",
       "      <th>['sex']_male</th>\n",
       "      <th>['smoker']_yes</th>\n",
       "      <th>['region']_northeast</th>\n",
       "      <th>['region']_northwest</th>\n",
       "      <th>['region']_southeast</th>\n",
       "      <th>['region']_southwest</th>\n",
       "    </tr>\n",
       "  </thead>\n",
       "  <tbody>\n",
       "    <tr>\n",
       "      <th>0</th>\n",
       "      <td>19</td>\n",
       "      <td>female</td>\n",
       "      <td>27.900</td>\n",
       "      <td>0</td>\n",
       "      <td>yes</td>\n",
       "      <td>southwest</td>\n",
       "      <td>16884.92400</td>\n",
       "      <td>0</td>\n",
       "      <td>1</td>\n",
       "      <td>0</td>\n",
       "      <td>0</td>\n",
       "      <td>0</td>\n",
       "      <td>1</td>\n",
       "    </tr>\n",
       "    <tr>\n",
       "      <th>1</th>\n",
       "      <td>18</td>\n",
       "      <td>male</td>\n",
       "      <td>33.770</td>\n",
       "      <td>1</td>\n",
       "      <td>no</td>\n",
       "      <td>southeast</td>\n",
       "      <td>1725.55230</td>\n",
       "      <td>1</td>\n",
       "      <td>0</td>\n",
       "      <td>0</td>\n",
       "      <td>0</td>\n",
       "      <td>1</td>\n",
       "      <td>0</td>\n",
       "    </tr>\n",
       "    <tr>\n",
       "      <th>2</th>\n",
       "      <td>28</td>\n",
       "      <td>male</td>\n",
       "      <td>33.000</td>\n",
       "      <td>3</td>\n",
       "      <td>no</td>\n",
       "      <td>southeast</td>\n",
       "      <td>4449.46200</td>\n",
       "      <td>1</td>\n",
       "      <td>0</td>\n",
       "      <td>0</td>\n",
       "      <td>0</td>\n",
       "      <td>1</td>\n",
       "      <td>0</td>\n",
       "    </tr>\n",
       "    <tr>\n",
       "      <th>3</th>\n",
       "      <td>33</td>\n",
       "      <td>male</td>\n",
       "      <td>22.705</td>\n",
       "      <td>0</td>\n",
       "      <td>no</td>\n",
       "      <td>northwest</td>\n",
       "      <td>21984.47061</td>\n",
       "      <td>1</td>\n",
       "      <td>0</td>\n",
       "      <td>0</td>\n",
       "      <td>1</td>\n",
       "      <td>0</td>\n",
       "      <td>0</td>\n",
       "    </tr>\n",
       "    <tr>\n",
       "      <th>4</th>\n",
       "      <td>32</td>\n",
       "      <td>male</td>\n",
       "      <td>28.880</td>\n",
       "      <td>0</td>\n",
       "      <td>no</td>\n",
       "      <td>northwest</td>\n",
       "      <td>3866.85520</td>\n",
       "      <td>1</td>\n",
       "      <td>0</td>\n",
       "      <td>0</td>\n",
       "      <td>1</td>\n",
       "      <td>0</td>\n",
       "      <td>0</td>\n",
       "    </tr>\n",
       "  </tbody>\n",
       "</table>\n",
       "</div>"
      ],
      "text/plain": [
       "   age     sex     bmi  children smoker     region      charges  ['sex']_male  \\\n",
       "0   19  female  27.900         0    yes  southwest  16884.92400             0   \n",
       "1   18    male  33.770         1     no  southeast   1725.55230             1   \n",
       "2   28    male  33.000         3     no  southeast   4449.46200             1   \n",
       "3   33    male  22.705         0     no  northwest  21984.47061             1   \n",
       "4   32    male  28.880         0     no  northwest   3866.85520             1   \n",
       "\n",
       "   ['smoker']_yes  ['region']_northeast  ['region']_northwest  \\\n",
       "0               1                     0                     0   \n",
       "1               0                     0                     0   \n",
       "2               0                     0                     0   \n",
       "3               0                     0                     1   \n",
       "4               0                     0                     1   \n",
       "\n",
       "   ['region']_southeast  ['region']_southwest  \n",
       "0                     0                     1  \n",
       "1                     1                     0  \n",
       "2                     1                     0  \n",
       "3                     0                     0  \n",
       "4                     0                     0  "
      ]
     },
     "execution_count": 33,
     "metadata": {},
     "output_type": "execute_result"
    }
   ],
   "source": [
    "df.head()"
   ]
  },
  {
   "cell_type": "code",
   "execution_count": 34,
   "id": "14f5ffb9",
   "metadata": {},
   "outputs": [],
   "source": [
    "for i in ['sex', 'smoker', 'region']:\n",
    "    df.drop(i, axis=1, inplace=True)"
   ]
  },
  {
   "cell_type": "code",
   "execution_count": 35,
   "id": "3f572441",
   "metadata": {},
   "outputs": [
    {
     "data": {
      "text/html": [
       "<div>\n",
       "<style scoped>\n",
       "    .dataframe tbody tr th:only-of-type {\n",
       "        vertical-align: middle;\n",
       "    }\n",
       "\n",
       "    .dataframe tbody tr th {\n",
       "        vertical-align: top;\n",
       "    }\n",
       "\n",
       "    .dataframe thead th {\n",
       "        text-align: right;\n",
       "    }\n",
       "</style>\n",
       "<table border=\"1\" class=\"dataframe\">\n",
       "  <thead>\n",
       "    <tr style=\"text-align: right;\">\n",
       "      <th></th>\n",
       "      <th>age</th>\n",
       "      <th>bmi</th>\n",
       "      <th>children</th>\n",
       "      <th>charges</th>\n",
       "      <th>['sex']_male</th>\n",
       "      <th>['smoker']_yes</th>\n",
       "      <th>['region']_northeast</th>\n",
       "      <th>['region']_northwest</th>\n",
       "      <th>['region']_southeast</th>\n",
       "      <th>['region']_southwest</th>\n",
       "    </tr>\n",
       "  </thead>\n",
       "  <tbody>\n",
       "    <tr>\n",
       "      <th>0</th>\n",
       "      <td>19</td>\n",
       "      <td>27.900</td>\n",
       "      <td>0</td>\n",
       "      <td>16884.92400</td>\n",
       "      <td>0</td>\n",
       "      <td>1</td>\n",
       "      <td>0</td>\n",
       "      <td>0</td>\n",
       "      <td>0</td>\n",
       "      <td>1</td>\n",
       "    </tr>\n",
       "    <tr>\n",
       "      <th>1</th>\n",
       "      <td>18</td>\n",
       "      <td>33.770</td>\n",
       "      <td>1</td>\n",
       "      <td>1725.55230</td>\n",
       "      <td>1</td>\n",
       "      <td>0</td>\n",
       "      <td>0</td>\n",
       "      <td>0</td>\n",
       "      <td>1</td>\n",
       "      <td>0</td>\n",
       "    </tr>\n",
       "    <tr>\n",
       "      <th>2</th>\n",
       "      <td>28</td>\n",
       "      <td>33.000</td>\n",
       "      <td>3</td>\n",
       "      <td>4449.46200</td>\n",
       "      <td>1</td>\n",
       "      <td>0</td>\n",
       "      <td>0</td>\n",
       "      <td>0</td>\n",
       "      <td>1</td>\n",
       "      <td>0</td>\n",
       "    </tr>\n",
       "    <tr>\n",
       "      <th>3</th>\n",
       "      <td>33</td>\n",
       "      <td>22.705</td>\n",
       "      <td>0</td>\n",
       "      <td>21984.47061</td>\n",
       "      <td>1</td>\n",
       "      <td>0</td>\n",
       "      <td>0</td>\n",
       "      <td>1</td>\n",
       "      <td>0</td>\n",
       "      <td>0</td>\n",
       "    </tr>\n",
       "    <tr>\n",
       "      <th>4</th>\n",
       "      <td>32</td>\n",
       "      <td>28.880</td>\n",
       "      <td>0</td>\n",
       "      <td>3866.85520</td>\n",
       "      <td>1</td>\n",
       "      <td>0</td>\n",
       "      <td>0</td>\n",
       "      <td>1</td>\n",
       "      <td>0</td>\n",
       "      <td>0</td>\n",
       "    </tr>\n",
       "  </tbody>\n",
       "</table>\n",
       "</div>"
      ],
      "text/plain": [
       "   age     bmi  children      charges  ['sex']_male  ['smoker']_yes  \\\n",
       "0   19  27.900         0  16884.92400             0               1   \n",
       "1   18  33.770         1   1725.55230             1               0   \n",
       "2   28  33.000         3   4449.46200             1               0   \n",
       "3   33  22.705         0  21984.47061             1               0   \n",
       "4   32  28.880         0   3866.85520             1               0   \n",
       "\n",
       "   ['region']_northeast  ['region']_northwest  ['region']_southeast  \\\n",
       "0                     0                     0                     0   \n",
       "1                     0                     0                     1   \n",
       "2                     0                     0                     1   \n",
       "3                     0                     1                     0   \n",
       "4                     0                     1                     0   \n",
       "\n",
       "   ['region']_southwest  \n",
       "0                     1  \n",
       "1                     0  \n",
       "2                     0  \n",
       "3                     0  \n",
       "4                     0  "
      ]
     },
     "execution_count": 35,
     "metadata": {},
     "output_type": "execute_result"
    }
   ],
   "source": [
    "df.head()"
   ]
  },
  {
   "cell_type": "code",
   "execution_count": 36,
   "id": "c589a0fe",
   "metadata": {},
   "outputs": [
    {
     "data": {
      "text/plain": [
       "age                       int64\n",
       "bmi                     float64\n",
       "children                  int64\n",
       "charges                 float64\n",
       "['sex']_male              uint8\n",
       "['smoker']_yes            uint8\n",
       "['region']_northeast      uint8\n",
       "['region']_northwest      uint8\n",
       "['region']_southeast      uint8\n",
       "['region']_southwest      uint8\n",
       "dtype: object"
      ]
     },
     "execution_count": 36,
     "metadata": {},
     "output_type": "execute_result"
    }
   ],
   "source": [
    "df.dtypes"
   ]
  },
  {
   "cell_type": "code",
   "execution_count": 37,
   "id": "572cb0d0",
   "metadata": {},
   "outputs": [],
   "source": [
    "from sklearn.model_selection import train_test_split\n",
    "from sklearn.linear_model import LinearRegression"
   ]
  },
  {
   "cell_type": "code",
   "execution_count": 38,
   "id": "85e1b336",
   "metadata": {},
   "outputs": [],
   "source": [
    "x = df.drop('charges',axis=1)\n",
    "y = df['charges']"
   ]
  },
  {
   "cell_type": "code",
   "execution_count": 39,
   "id": "7af5562a",
   "metadata": {},
   "outputs": [
    {
     "data": {
      "text/html": [
       "<div>\n",
       "<style scoped>\n",
       "    .dataframe tbody tr th:only-of-type {\n",
       "        vertical-align: middle;\n",
       "    }\n",
       "\n",
       "    .dataframe tbody tr th {\n",
       "        vertical-align: top;\n",
       "    }\n",
       "\n",
       "    .dataframe thead th {\n",
       "        text-align: right;\n",
       "    }\n",
       "</style>\n",
       "<table border=\"1\" class=\"dataframe\">\n",
       "  <thead>\n",
       "    <tr style=\"text-align: right;\">\n",
       "      <th></th>\n",
       "      <th>age</th>\n",
       "      <th>bmi</th>\n",
       "      <th>children</th>\n",
       "      <th>['sex']_male</th>\n",
       "      <th>['smoker']_yes</th>\n",
       "      <th>['region']_northeast</th>\n",
       "      <th>['region']_northwest</th>\n",
       "      <th>['region']_southeast</th>\n",
       "      <th>['region']_southwest</th>\n",
       "    </tr>\n",
       "  </thead>\n",
       "  <tbody>\n",
       "    <tr>\n",
       "      <th>0</th>\n",
       "      <td>19</td>\n",
       "      <td>27.900</td>\n",
       "      <td>0</td>\n",
       "      <td>0</td>\n",
       "      <td>1</td>\n",
       "      <td>0</td>\n",
       "      <td>0</td>\n",
       "      <td>0</td>\n",
       "      <td>1</td>\n",
       "    </tr>\n",
       "    <tr>\n",
       "      <th>1</th>\n",
       "      <td>18</td>\n",
       "      <td>33.770</td>\n",
       "      <td>1</td>\n",
       "      <td>1</td>\n",
       "      <td>0</td>\n",
       "      <td>0</td>\n",
       "      <td>0</td>\n",
       "      <td>1</td>\n",
       "      <td>0</td>\n",
       "    </tr>\n",
       "    <tr>\n",
       "      <th>2</th>\n",
       "      <td>28</td>\n",
       "      <td>33.000</td>\n",
       "      <td>3</td>\n",
       "      <td>1</td>\n",
       "      <td>0</td>\n",
       "      <td>0</td>\n",
       "      <td>0</td>\n",
       "      <td>1</td>\n",
       "      <td>0</td>\n",
       "    </tr>\n",
       "    <tr>\n",
       "      <th>3</th>\n",
       "      <td>33</td>\n",
       "      <td>22.705</td>\n",
       "      <td>0</td>\n",
       "      <td>1</td>\n",
       "      <td>0</td>\n",
       "      <td>0</td>\n",
       "      <td>1</td>\n",
       "      <td>0</td>\n",
       "      <td>0</td>\n",
       "    </tr>\n",
       "    <tr>\n",
       "      <th>4</th>\n",
       "      <td>32</td>\n",
       "      <td>28.880</td>\n",
       "      <td>0</td>\n",
       "      <td>1</td>\n",
       "      <td>0</td>\n",
       "      <td>0</td>\n",
       "      <td>1</td>\n",
       "      <td>0</td>\n",
       "      <td>0</td>\n",
       "    </tr>\n",
       "  </tbody>\n",
       "</table>\n",
       "</div>"
      ],
      "text/plain": [
       "   age     bmi  children  ['sex']_male  ['smoker']_yes  ['region']_northeast  \\\n",
       "0   19  27.900         0             0               1                     0   \n",
       "1   18  33.770         1             1               0                     0   \n",
       "2   28  33.000         3             1               0                     0   \n",
       "3   33  22.705         0             1               0                     0   \n",
       "4   32  28.880         0             1               0                     0   \n",
       "\n",
       "   ['region']_northwest  ['region']_southeast  ['region']_southwest  \n",
       "0                     0                     0                     1  \n",
       "1                     0                     1                     0  \n",
       "2                     0                     1                     0  \n",
       "3                     1                     0                     0  \n",
       "4                     1                     0                     0  "
      ]
     },
     "execution_count": 39,
     "metadata": {},
     "output_type": "execute_result"
    }
   ],
   "source": [
    "x.head()"
   ]
  },
  {
   "cell_type": "code",
   "execution_count": 40,
   "id": "152d1e80",
   "metadata": {},
   "outputs": [
    {
     "data": {
      "text/plain": [
       "0    16884.92400\n",
       "1     1725.55230\n",
       "2     4449.46200\n",
       "3    21984.47061\n",
       "4     3866.85520\n",
       "Name: charges, dtype: float64"
      ]
     },
     "execution_count": 40,
     "metadata": {},
     "output_type": "execute_result"
    }
   ],
   "source": [
    "y.head()"
   ]
  },
  {
   "cell_type": "code",
   "execution_count": 41,
   "id": "3792a698",
   "metadata": {},
   "outputs": [],
   "source": [
    "x_train, x_test, y_train, y_test = train_test_split(x, y, test_size = 0.2, random_state = 120)"
   ]
  },
  {
   "cell_type": "code",
   "execution_count": 42,
   "id": "b0df915a",
   "metadata": {},
   "outputs": [
    {
     "data": {
      "text/plain": [
       "LinearRegression()"
      ]
     },
     "execution_count": 42,
     "metadata": {},
     "output_type": "execute_result"
    }
   ],
   "source": [
    "model = LinearRegression()\n",
    "model.fit(x_train, y_train)"
   ]
  },
  {
   "cell_type": "code",
   "execution_count": 44,
   "id": "64e08880",
   "metadata": {},
   "outputs": [
    {
     "data": {
      "text/plain": [
       "0.744537432397816"
      ]
     },
     "execution_count": 44,
     "metadata": {},
     "output_type": "execute_result"
    }
   ],
   "source": [
    "model.score(x_train, y_train)"
   ]
  },
  {
   "cell_type": "code",
   "execution_count": 46,
   "id": "7fb19754",
   "metadata": {},
   "outputs": [
    {
     "data": {
      "text/plain": [
       "0.7753676539368674"
      ]
     },
     "execution_count": 46,
     "metadata": {},
     "output_type": "execute_result"
    }
   ],
   "source": [
    "model.score(x_test, y_test)"
   ]
  },
  {
   "cell_type": "code",
   "execution_count": 47,
   "id": "6da5a177",
   "metadata": {},
   "outputs": [],
   "source": [
    "prediction = model.predict(x_test)"
   ]
  },
  {
   "cell_type": "code",
   "execution_count": 48,
   "id": "35471c86",
   "metadata": {},
   "outputs": [
    {
     "data": {
      "text/plain": [
       "array([ 8825.93564816, 34958.64327408,  7402.67339303, 16973.77456681,\n",
       "        5283.35894202, 10417.9954991 , 12512.64429845, 13476.34469098,\n",
       "        3875.97350567,  9341.67116925, 11361.77292358,  5200.57211668,\n",
       "       10085.78219672,  2524.39775765, 39371.50978607, 33828.72684761,\n",
       "        7555.12383219,  1477.69046835,  8298.42094914,  3914.06295031,\n",
       "        4698.66070266,  7025.4746176 ,  3575.14569207,  6093.94538983,\n",
       "        8714.50031198,  6095.3460357 , 12750.81432894,  -386.37787058,\n",
       "       11667.57224309,  8723.63472874, 25956.88495548, 13315.87389794,\n",
       "       10592.48253152, 40195.90479266, 12822.68496654,  8616.60227987,\n",
       "        3493.98441445, 10441.14517126, 12885.94205709, 12521.80177515,\n",
       "       15145.14260067, 36757.77962179,  7894.04062768, 13993.35618404,\n",
       "        2399.43939513,  6426.10034334, 30400.94945787,  5615.41954405,\n",
       "       13236.55767653,  8010.90264298,   867.21368397,  8749.78639159,\n",
       "       16563.05583717,  3073.7826559 , 11286.4922845 ,  7028.15943275,\n",
       "       13723.468745  , 11834.55602572, 32069.48545153, 31862.79199068,\n",
       "          55.36118071,  8690.23419404, 11194.77263511,  7624.39600684,\n",
       "        7696.04116125,  9772.51099747, 15593.49872631,  7223.32570912,\n",
       "       13355.96144752,  2041.27620758,  8044.86932389,  3616.79732021,\n",
       "        7700.71901173, 33575.94816048,   887.1216941 , 27941.77962595,\n",
       "        9500.23839536, 15135.04558429, 38659.37196984,  6747.64791603,\n",
       "        4048.74425555, 29990.0640304 ,  6217.38331897, 10363.93982703,\n",
       "       10646.85535254, 13074.07085806,  8197.87423383, 14972.4260833 ,\n",
       "       11012.82858717, 37700.4212558 ,  6935.90938725,  -211.60978363,\n",
       "        5052.69509777, -1493.06777029, 28209.73815675,  7514.08128765,\n",
       "        5146.13495014,  7248.30205035, 39241.11395671,  6420.01347035,\n",
       "        6567.28101162,  5425.73476554, 12468.77381666,  9323.76620728,\n",
       "       30331.23676515, 11931.09738482, 32962.81088342,  1064.40980626,\n",
       "        9704.29778646, 25661.93157626, 11101.60020235,  8291.17532458,\n",
       "        4808.6694913 ,  9244.10709417,  8820.85044086, 31458.11229278,\n",
       "        1780.77162922,  -997.50780165,  3824.00945402,  7799.76253686,\n",
       "       29101.9124699 , 29186.3645816 , 32212.10449881,  9478.49545754,\n",
       "        2829.47893839, 11409.89467104,  8327.67544818,  5257.0878581 ,\n",
       "        8916.91592584, 10118.82781826,  8198.70378738,  5948.8795543 ,\n",
       "       15483.9508523 , 13917.30823704, 14205.13627404,  7154.75974706,\n",
       "        8135.05871088,  9658.91437731, 28626.90639718, 13384.16128076,\n",
       "       29207.48786946, 11332.60631662, 12802.29632329,  6236.49008268,\n",
       "        1641.16288273,   569.52270224, 12198.49493396, 11170.38271448,\n",
       "       27078.79633305, -1703.07544994,  7339.97738588, 10732.70897684,\n",
       "        3898.0780611 ,  7880.95172425,  9078.98073469, 12825.38473671,\n",
       "          86.68334963,  9789.98421264, 31138.55781784, 30724.69270858,\n",
       "        9001.78349149, 31735.1687484 , 12450.90421464, 13703.19302433,\n",
       "       27334.31845883,  -795.24133862,  9309.24333836, 13767.60902539,\n",
       "        4945.09510611, 10894.10701243,  6906.99561835,  3280.80645768,\n",
       "       36103.38096193,  6388.65032512, 12212.38545182, 12801.4655321 ,\n",
       "        7607.01420512,  8088.14899543,  -244.12967781,  3841.72169141,\n",
       "       33838.10439574,  5516.17207265, 12835.60241023,  9465.23651872,\n",
       "       10852.21263031, 15675.83532398,  9404.65700511, 34963.5713313 ,\n",
       "        3818.85839025, 10838.32211245,  3565.91853241,  5868.06957319,\n",
       "       13381.88620301,  5472.05673093,  4570.48153507,  7225.69436634,\n",
       "       15624.15031722, 32335.78725971,  7230.57751743,  8811.80076128,\n",
       "       11439.32699722,  7825.16005562,  5531.38514412, 13134.2442729 ,\n",
       "       11698.68159819, 27542.51557259, -1695.26951689, 13563.14641869,\n",
       "        2644.45705533,  8944.39634803, 24028.55013432, 16307.90772081,\n",
       "       17046.18588678,  5629.23801935,  1148.69790293,  5871.28703525,\n",
       "       11715.5485521 ,  3901.96724353, 36726.85229827, 26348.13798817,\n",
       "       13009.57088536,  9824.94464477, 10605.58169752, 12963.90203849,\n",
       "        5704.72059505, 32093.71364241,  7671.79961553, -1423.0777315 ,\n",
       "       14994.48394431,  5945.2212649 , 25945.70792907,  3728.83539729,\n",
       "        4388.5249111 ,  1499.2740875 ,  9041.66097855, 13214.82586957,\n",
       "       14764.41461878,  6573.12113659,  8163.86601369, 34527.34939305,\n",
       "       27140.16701041, 14274.8452583 ,  5480.69963446,  2850.56362347,\n",
       "       11347.16015293, 28895.00607953, 17961.12235279,  5511.33036608,\n",
       "       17602.76987019, 24031.44089836, 14011.72756578, 12117.21299919,\n",
       "        7183.76338952,  6676.51248051,  1993.92167622, 12329.3100821 ,\n",
       "       10759.46708905,  3352.27165571,  4281.1385957 , 15749.26193754,\n",
       "        7214.54057979,  4400.86316146, 14269.08347634, 36457.90801553,\n",
       "       39207.66082332, 13380.9136863 , 11305.96561583, 14609.57988618])"
      ]
     },
     "execution_count": 48,
     "metadata": {},
     "output_type": "execute_result"
    }
   ],
   "source": [
    "prediction"
   ]
  },
  {
   "cell_type": "code",
   "execution_count": 49,
   "id": "6b8a52c2",
   "metadata": {},
   "outputs": [
    {
     "data": {
      "text/plain": [
       "<seaborn.axisgrid.FacetGrid at 0x29f7183a640>"
      ]
     },
     "execution_count": 49,
     "metadata": {},
     "output_type": "execute_result"
    },
    {
     "data": {
      "image/png": "[encoded data removed]",
      "text/plain": [
       "<Figure size 360x360 with 1 Axes>"
      ]
     },
     "metadata": {
      "needs_background": "light"
     },
     "output_type": "display_data"
    }
   ],
   "source": [
    "sns.displot(y_test-prediction)"
   ]
  },
  {
   "cell_type": "code",
   "execution_count": 50,
   "id": "7c88002f",
   "metadata": {},
   "outputs": [
    {
     "data": {
      "text/plain": [
       "<matplotlib.collections.PathCollection at 0x29f721a4d90>"
      ]
     },
     "execution_count": 50,
     "metadata": {},
     "output_type": "execute_result"
    },
    {
     "data": {
      "image/png": "[encoded data removed]",
      "text/plain": [
       "<Figure size 432x288 with 1 Axes>"
      ]
     },
     "metadata": {
      "needs_background": "light"
     },
     "output_type": "display_data"
    }
   ],
   "source": [
    "plt.scatter(y_test, prediction)"
   ]
  },
  {
   "cell_type": "code",
   "execution_count": 51,
   "id": "6c1d4b12",
   "metadata": {},
   "outputs": [
    {
     "data": {
      "text/html": [
       "<div>\n",
       "<style scoped>\n",
       "    .dataframe tbody tr th:only-of-type {\n",
       "        vertical-align: middle;\n",
       "    }\n",
       "\n",
       "    .dataframe tbody tr th {\n",
       "        vertical-align: top;\n",
       "    }\n",
       "\n",
       "    .dataframe thead th {\n",
       "        text-align: right;\n",
       "    }\n",
       "</style>\n",
       "<table border=\"1\" class=\"dataframe\">\n",
       "  <thead>\n",
       "    <tr style=\"text-align: right;\">\n",
       "      <th></th>\n",
       "      <th>age</th>\n",
       "      <th>bmi</th>\n",
       "      <th>children</th>\n",
       "      <th>['sex']_male</th>\n",
       "      <th>['smoker']_yes</th>\n",
       "      <th>['region']_northeast</th>\n",
       "      <th>['region']_northwest</th>\n",
       "      <th>['region']_southeast</th>\n",
       "      <th>['region']_southwest</th>\n",
       "    </tr>\n",
       "  </thead>\n",
       "  <tbody>\n",
       "    <tr>\n",
       "      <th>0</th>\n",
       "      <td>19</td>\n",
       "      <td>27.900</td>\n",
       "      <td>0</td>\n",
       "      <td>0</td>\n",
       "      <td>1</td>\n",
       "      <td>0</td>\n",
       "      <td>0</td>\n",
       "      <td>0</td>\n",
       "      <td>1</td>\n",
       "    </tr>\n",
       "    <tr>\n",
       "      <th>1</th>\n",
       "      <td>18</td>\n",
       "      <td>33.770</td>\n",
       "      <td>1</td>\n",
       "      <td>1</td>\n",
       "      <td>0</td>\n",
       "      <td>0</td>\n",
       "      <td>0</td>\n",
       "      <td>1</td>\n",
       "      <td>0</td>\n",
       "    </tr>\n",
       "    <tr>\n",
       "      <th>2</th>\n",
       "      <td>28</td>\n",
       "      <td>33.000</td>\n",
       "      <td>3</td>\n",
       "      <td>1</td>\n",
       "      <td>0</td>\n",
       "      <td>0</td>\n",
       "      <td>0</td>\n",
       "      <td>1</td>\n",
       "      <td>0</td>\n",
       "    </tr>\n",
       "    <tr>\n",
       "      <th>3</th>\n",
       "      <td>33</td>\n",
       "      <td>22.705</td>\n",
       "      <td>0</td>\n",
       "      <td>1</td>\n",
       "      <td>0</td>\n",
       "      <td>0</td>\n",
       "      <td>1</td>\n",
       "      <td>0</td>\n",
       "      <td>0</td>\n",
       "    </tr>\n",
       "    <tr>\n",
       "      <th>4</th>\n",
       "      <td>32</td>\n",
       "      <td>28.880</td>\n",
       "      <td>0</td>\n",
       "      <td>1</td>\n",
       "      <td>0</td>\n",
       "      <td>0</td>\n",
       "      <td>1</td>\n",
       "      <td>0</td>\n",
       "      <td>0</td>\n",
       "    </tr>\n",
       "  </tbody>\n",
       "</table>\n",
       "</div>"
      ],
      "text/plain": [
       "   age     bmi  children  ['sex']_male  ['smoker']_yes  ['region']_northeast  \\\n",
       "0   19  27.900         0             0               1                     0   \n",
       "1   18  33.770         1             1               0                     0   \n",
       "2   28  33.000         3             1               0                     0   \n",
       "3   33  22.705         0             1               0                     0   \n",
       "4   32  28.880         0             1               0                     0   \n",
       "\n",
       "   ['region']_northwest  ['region']_southeast  ['region']_southwest  \n",
       "0                     0                     0                     1  \n",
       "1                     0                     1                     0  \n",
       "2                     0                     1                     0  \n",
       "3                     1                     0                     0  \n",
       "4                     1                     0                     0  "
      ]
     },
     "execution_count": 51,
     "metadata": {},
     "output_type": "execute_result"
    }
   ],
   "source": [
    "x.head()"
   ]
  },
  {
   "cell_type": "code",
   "execution_count": 52,
   "id": "7a991e2a",
   "metadata": {},
   "outputs": [
    {
     "name": "stderr",
     "output_type": "stream",
     "text": [
      "C:\\ProgramData\\Anaconda3\\lib\\site-packages\\sklearn\\base.py:450: UserWarning: X does not have valid feature names, but LinearRegression was fitted with feature names\n",
      "  warnings.warn(\n"
     ]
    },
    {
     "data": {
      "text/plain": [
       "array([25293.35465796])"
      ]
     },
     "execution_count": 52,
     "metadata": {},
     "output_type": "execute_result"
    }
   ],
   "source": [
    "model.predict([[19,27.900,0,0,1,0,0,0,1]])"
   ]
  },
  {
   "cell_type": "code",
   "execution_count": 53,
   "id": "763fcf70",
   "metadata": {},
   "outputs": [
    {
     "data": {
      "text/html": [
       "<div>\n",
       "<style scoped>\n",
       "    .dataframe tbody tr th:only-of-type {\n",
       "        vertical-align: middle;\n",
       "    }\n",
       "\n",
       "    .dataframe tbody tr th {\n",
       "        vertical-align: top;\n",
       "    }\n",
       "\n",
       "    .dataframe thead th {\n",
       "        text-align: right;\n",
       "    }\n",
       "</style>\n",
       "<table border=\"1\" class=\"dataframe\">\n",
       "  <thead>\n",
       "    <tr style=\"text-align: right;\">\n",
       "      <th></th>\n",
       "      <th>age</th>\n",
       "      <th>bmi</th>\n",
       "      <th>children</th>\n",
       "      <th>charges</th>\n",
       "      <th>['sex']_male</th>\n",
       "      <th>['smoker']_yes</th>\n",
       "      <th>['region']_northeast</th>\n",
       "      <th>['region']_northwest</th>\n",
       "      <th>['region']_southeast</th>\n",
       "      <th>['region']_southwest</th>\n",
       "    </tr>\n",
       "  </thead>\n",
       "  <tbody>\n",
       "    <tr>\n",
       "      <th>0</th>\n",
       "      <td>19</td>\n",
       "      <td>27.900</td>\n",
       "      <td>0</td>\n",
       "      <td>16884.92400</td>\n",
       "      <td>0</td>\n",
       "      <td>1</td>\n",
       "      <td>0</td>\n",
       "      <td>0</td>\n",
       "      <td>0</td>\n",
       "      <td>1</td>\n",
       "    </tr>\n",
       "    <tr>\n",
       "      <th>1</th>\n",
       "      <td>18</td>\n",
       "      <td>33.770</td>\n",
       "      <td>1</td>\n",
       "      <td>1725.55230</td>\n",
       "      <td>1</td>\n",
       "      <td>0</td>\n",
       "      <td>0</td>\n",
       "      <td>0</td>\n",
       "      <td>1</td>\n",
       "      <td>0</td>\n",
       "    </tr>\n",
       "    <tr>\n",
       "      <th>2</th>\n",
       "      <td>28</td>\n",
       "      <td>33.000</td>\n",
       "      <td>3</td>\n",
       "      <td>4449.46200</td>\n",
       "      <td>1</td>\n",
       "      <td>0</td>\n",
       "      <td>0</td>\n",
       "      <td>0</td>\n",
       "      <td>1</td>\n",
       "      <td>0</td>\n",
       "    </tr>\n",
       "    <tr>\n",
       "      <th>3</th>\n",
       "      <td>33</td>\n",
       "      <td>22.705</td>\n",
       "      <td>0</td>\n",
       "      <td>21984.47061</td>\n",
       "      <td>1</td>\n",
       "      <td>0</td>\n",
       "      <td>0</td>\n",
       "      <td>1</td>\n",
       "      <td>0</td>\n",
       "      <td>0</td>\n",
       "    </tr>\n",
       "    <tr>\n",
       "      <th>4</th>\n",
       "      <td>32</td>\n",
       "      <td>28.880</td>\n",
       "      <td>0</td>\n",
       "      <td>3866.85520</td>\n",
       "      <td>1</td>\n",
       "      <td>0</td>\n",
       "      <td>0</td>\n",
       "      <td>1</td>\n",
       "      <td>0</td>\n",
       "      <td>0</td>\n",
       "    </tr>\n",
       "    <tr>\n",
       "      <th>...</th>\n",
       "      <td>...</td>\n",
       "      <td>...</td>\n",
       "      <td>...</td>\n",
       "      <td>...</td>\n",
       "      <td>...</td>\n",
       "      <td>...</td>\n",
       "      <td>...</td>\n",
       "      <td>...</td>\n",
       "      <td>...</td>\n",
       "      <td>...</td>\n",
       "    </tr>\n",
       "    <tr>\n",
       "      <th>1333</th>\n",
       "      <td>50</td>\n",
       "      <td>30.970</td>\n",
       "      <td>3</td>\n",
       "      <td>10600.54830</td>\n",
       "      <td>1</td>\n",
       "      <td>0</td>\n",
       "      <td>0</td>\n",
       "      <td>1</td>\n",
       "      <td>0</td>\n",
       "      <td>0</td>\n",
       "    </tr>\n",
       "    <tr>\n",
       "      <th>1334</th>\n",
       "      <td>18</td>\n",
       "      <td>31.920</td>\n",
       "      <td>0</td>\n",
       "      <td>2205.98080</td>\n",
       "      <td>0</td>\n",
       "      <td>0</td>\n",
       "      <td>1</td>\n",
       "      <td>0</td>\n",
       "      <td>0</td>\n",
       "      <td>0</td>\n",
       "    </tr>\n",
       "    <tr>\n",
       "      <th>1335</th>\n",
       "      <td>18</td>\n",
       "      <td>36.850</td>\n",
       "      <td>0</td>\n",
       "      <td>1629.83350</td>\n",
       "      <td>0</td>\n",
       "      <td>0</td>\n",
       "      <td>0</td>\n",
       "      <td>0</td>\n",
       "      <td>1</td>\n",
       "      <td>0</td>\n",
       "    </tr>\n",
       "    <tr>\n",
       "      <th>1336</th>\n",
       "      <td>21</td>\n",
       "      <td>25.800</td>\n",
       "      <td>0</td>\n",
       "      <td>2007.94500</td>\n",
       "      <td>0</td>\n",
       "      <td>0</td>\n",
       "      <td>0</td>\n",
       "      <td>0</td>\n",
       "      <td>0</td>\n",
       "      <td>1</td>\n",
       "    </tr>\n",
       "    <tr>\n",
       "      <th>1337</th>\n",
       "      <td>61</td>\n",
       "      <td>29.070</td>\n",
       "      <td>0</td>\n",
       "      <td>29141.36030</td>\n",
       "      <td>0</td>\n",
       "      <td>1</td>\n",
       "      <td>0</td>\n",
       "      <td>1</td>\n",
       "      <td>0</td>\n",
       "      <td>0</td>\n",
       "    </tr>\n",
       "  </tbody>\n",
       "</table>\n",
       "<p>1337 rows × 10 columns</p>\n",
       "</div>"
      ],
      "text/plain": [
       "      age     bmi  children      charges  ['sex']_male  ['smoker']_yes  \\\n",
       "0      19  27.900         0  16884.92400             0               1   \n",
       "1      18  33.770         1   1725.55230             1               0   \n",
       "2      28  33.000         3   4449.46200             1               0   \n",
       "3      33  22.705         0  21984.47061             1               0   \n",
       "4      32  28.880         0   3866.85520             1               0   \n",
       "...   ...     ...       ...          ...           ...             ...   \n",
       "1333   50  30.970         3  10600.54830             1               0   \n",
       "1334   18  31.920         0   2205.98080             0               0   \n",
       "1335   18  36.850         0   1629.83350             0               0   \n",
       "1336   21  25.800         0   2007.94500             0               0   \n",
       "1337   61  29.070         0  29141.36030             0               1   \n",
       "\n",
       "      ['region']_northeast  ['region']_northwest  ['region']_southeast  \\\n",
       "0                        0                     0                     0   \n",
       "1                        0                     0                     1   \n",
       "2                        0                     0                     1   \n",
       "3                        0                     1                     0   \n",
       "4                        0                     1                     0   \n",
       "...                    ...                   ...                   ...   \n",
       "1333                     0                     1                     0   \n",
       "1334                     1                     0                     0   \n",
       "1335                     0                     0                     1   \n",
       "1336                     0                     0                     0   \n",
       "1337                     0                     1                     0   \n",
       "\n",
       "      ['region']_southwest  \n",
       "0                        1  \n",
       "1                        0  \n",
       "2                        0  \n",
       "3                        0  \n",
       "4                        0  \n",
       "...                    ...  \n",
       "1333                     0  \n",
       "1334                     0  \n",
       "1335                     0  \n",
       "1336                     1  \n",
       "1337                     0  \n",
       "\n",
       "[1337 rows x 10 columns]"
      ]
     },
     "execution_count": 53,
     "metadata": {},
     "output_type": "execute_result"
    }
   ],
   "source": [
    "df"
   ]
  },
  {
   "cell_type": "code",
   "execution_count": 54,
   "id": "d1b51355",
   "metadata": {},
   "outputs": [],
   "source": [
    "import pickle"
   ]
  },
  {
   "cell_type": "code",
   "execution_count": 58,
   "id": "e86c7902",
   "metadata": {},
   "outputs": [],
   "source": [
    "with open('linear_model.sav','wb') as f:\n",
    "    pickle.dump(model,f)"
   ]
  },
  {
   "cell_type": "code",
   "execution_count": 59,
   "id": "90ca2b32",
   "metadata": {},
   "outputs": [],
   "source": [
    "with open('linear_model.sav','rb') as f:\n",
    "    mp = pickle.load(f)"
   ]
  },
  {
   "cell_type": "code",
   "execution_count": 60,
   "id": "c7a55745",
   "metadata": {},
   "outputs": [
    {
     "name": "stderr",
     "output_type": "stream",
     "text": [
      "C:\\ProgramData\\Anaconda3\\lib\\site-packages\\sklearn\\base.py:450: UserWarning: X does not have valid feature names, but LinearRegression was fitted with feature names\n",
      "  warnings.warn(\n"
     ]
    },
    {
     "data": {
      "text/plain": [
       "array([25293.35465796])"
      ]
     },
     "execution_count": 60,
     "metadata": {},
     "output_type": "execute_result"
    }
   ],
   "source": [
    "mp.predict([[19,27.900,0,0,1,0,0,0,1]])"
   ]
  },
  {
   "cell_type": "code",
   "execution_count": null,
   "id": "8db67144",
   "metadata": {},
   "outputs": [],
   "source": []
  }
 ],
 "metadata": {
  "kernelspec": {
   "display_name": "Python 3 (ipykernel)",
   "language": "python",
   "name": "python3"
  },
  "language_info": {
   "codemirror_mode": {
    "name": "ipython",
    "version": 3
   },
   "file_extension": ".py",
   "mimetype": "text/x-python",
   "name": "python",
   "nbconvert_exporter": "python",
   "pygments_lexer": "ipython3",
   "version": "3.9.12"
  }
 },
 "nbformat": 4,
 "nbformat_minor": 5
}
